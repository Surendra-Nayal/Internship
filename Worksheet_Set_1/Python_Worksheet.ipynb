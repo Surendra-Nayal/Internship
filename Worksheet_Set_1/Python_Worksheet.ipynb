{
 "cells": [
  {
   "cell_type": "code",
   "execution_count": 8,
   "id": "6fdc7c0b",
   "metadata": {},
   "outputs": [
    {
     "name": "stdout",
     "output_type": "stream",
     "text": [
      "Enter a number: 4\n",
      "24\n"
     ]
    }
   ],
   "source": [
    "# Q11. Write a python program to find the factorial of a number.\n",
    "number = int(input(\"Enter a number: \"))\n",
    "factorial = 1\n",
    "if number < 0:\n",
    "    print(\"Does not exist\")\n",
    "elif number == 0:\n",
    "    print(1)\n",
    "else:\n",
    "    for i in range(1,number + 1):\n",
    "        factorial = factorial*i\n",
    "    print(factorial)\n",
    "    "
   ]
  },
  {
   "cell_type": "code",
   "execution_count": 9,
   "id": "1bb6cd62",
   "metadata": {},
   "outputs": [
    {
     "name": "stdout",
     "output_type": "stream",
     "text": [
      "Enter a number: 13\n",
      "13 is a prime number\n"
     ]
    }
   ],
   "source": [
    "# Q12. Write a python program to find whether a number is prime or composite.\n",
    "num1 = int(input(\"Enter a number: \"))\n",
    "\n",
    "if num1 > 1:\n",
    "    for i in range(2, num1):\n",
    "        if (num1 % i) == 0:\n",
    "            print(num1, \"is a composite number\")\n",
    "            break\n",
    "    else:\n",
    "        print(num1, \"is a prime number\")\n",
    "else:\n",
    "    print(num1, \"is a composite number\")"
   ]
  },
  {
   "cell_type": "code",
   "execution_count": 3,
   "id": "3ab91994",
   "metadata": {},
   "outputs": [
    {
     "name": "stdout",
     "output_type": "stream",
     "text": [
      "Enter a string: radar\n",
      "The string is a palindrome\n"
     ]
    }
   ],
   "source": [
    "# Q13. Write a python program to check whether a given string is palindrome or not.\n",
    "string = input(\"Enter a string: \")\n",
    "reverse = string[::-1]\n",
    "\n",
    "if string == reverse:\n",
    "    print(\"The string is a palindrome\")\n",
    "else:\n",
    "    print(\"The string is not a palindrome\")"
   ]
  },
  {
   "cell_type": "code",
   "execution_count": 10,
   "id": "8d3e674d",
   "metadata": {},
   "outputs": [
    {
     "name": "stdout",
     "output_type": "stream",
     "text": [
      "Enter the length of side 1: 3\n",
      "Enter the length of side 2: 4\n",
      "The length of the hypotenuse is: 5.0\n"
     ]
    }
   ],
   "source": [
    "# Q14. Write a Python program to get the third side of right-angled triangle from two given sides.\n",
    "\n",
    "import math\n",
    "\n",
    "side1 = float(input(\"Enter the length of side 1: \"))\n",
    "side2 = float(input(\"Enter the length of side 2: \"))\n",
    "\n",
    "hypotenuse = math.sqrt(side1**2 + side2**2)\n",
    "\n",
    "print(\"The length of the hypotenuse is:\", hypotenuse)"
   ]
  },
  {
   "cell_type": "code",
   "execution_count": 6,
   "id": "52722aee",
   "metadata": {},
   "outputs": [
    {
     "name": "stdout",
     "output_type": "stream",
     "text": [
      "Enter a string: python\n",
      "p : 1\n",
      "y : 1\n",
      "t : 1\n",
      "h : 1\n",
      "o : 1\n",
      "n : 1\n"
     ]
    }
   ],
   "source": [
    "# Q15. Write a python program to print the frequency of each of the characters present in a given string.\n",
    "string = input(\"Enter a string: \")\n",
    "frequency = {}\n",
    "\n",
    "for char in string:\n",
    "    if char in frequency:\n",
    "        frequency[char] += 1\n",
    "    else:\n",
    "        frequency[char] = 1\n",
    "\n",
    "for char, count in frequency.items():\n",
    "    print(char, \":\", count)"
   ]
  },
  {
   "cell_type": "code",
   "execution_count": null,
   "id": "3aa966c0",
   "metadata": {},
   "outputs": [],
   "source": []
  },
  {
   "cell_type": "code",
   "execution_count": null,
   "id": "44f93bea",
   "metadata": {},
   "outputs": [],
   "source": []
  }
 ],
 "metadata": {
  "kernelspec": {
   "display_name": "Python 3 (ipykernel)",
   "language": "python",
   "name": "python3"
  },
  "language_info": {
   "codemirror_mode": {
    "name": "ipython",
    "version": 3
   },
   "file_extension": ".py",
   "mimetype": "text/x-python",
   "name": "python",
   "nbconvert_exporter": "python",
   "pygments_lexer": "ipython3",
   "version": "3.9.12"
  }
 },
 "nbformat": 4,
 "nbformat_minor": 5
}
